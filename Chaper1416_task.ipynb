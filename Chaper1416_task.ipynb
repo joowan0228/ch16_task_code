{
  "cells": [
    {
      "cell_type": "markdown",
      "metadata": {
        "id": "view-in-github",
        "colab_type": "text"
      },
      "source": [
        "<a href=\"https://colab.research.google.com/github/joowan0228/ch16_task_code/blob/main/Chaper1416_task.ipynb\" target=\"_parent\"><img src=\"https://colab.research.google.com/assets/colab-badge.svg\" alt=\"Open In Colab\"/></a>"
      ]
    },
    {
      "cell_type": "markdown",
      "metadata": {
        "id": "BX7SgOeWu86I"
      },
      "source": [
        "안녕하세요. 수강생 여러분~! Chapter14 ~ 16 수업은 잘 들으셨나요?\n",
        "\n",
        "Chapter14 ~ 16의 수업 내용을 바탕으로 아래 문제를 풀어주시면 됩니다.\n",
        "\n",
        "<br>\n",
        "\n",
        "\n",
        "[**답변 입력 방법**]\n",
        "\n",
        "문제 아래에 있는 코드 입력창에 정답코드를 작성하신 후  __▷ 버튼을 클릭해 코드를 실행__ 해보세요<br>"
      ]
    },
    {
      "cell_type": "markdown",
      "metadata": {
        "id": "jRF-trnlw7k2"
      },
      "source": [
        "---"
      ]
    },
    {
      "cell_type": "markdown",
      "metadata": {
        "id": "7kQJMRuFu-6s"
      },
      "source": [
        "__[문제1]__\n",
        "\n",
        "주어진 정수 x와 자연수 n을 이용해, x부터 시작해 x씩 증가하는 숫자를 n개 지니는 리스트를 출력해주세요   \n",
        "<br>\n",
        "\n",
        "x = 2, n =5"
      ]
    },
    {
      "cell_type": "code",
      "execution_count": 36,
      "metadata": {
        "id": "juUF2KYbu0DX",
        "colab": {
          "base_uri": "https://localhost:8080/"
        },
        "outputId": "67123219-e2e7-4327-c5c0-ad91d4715c3c"
      },
      "outputs": [
        {
          "output_type": "stream",
          "name": "stdout",
          "text": [
            "2부터 시작해서 2씩 5번 증가한 결과입니다\n",
            "\n",
            "[2, 4, 6, 8, 10]\n"
          ]
        }
      ],
      "source": [
        "x = 2\n",
        "n = 5\n",
        "\n",
        "print(f\"{x}부터 시작해서 {x}씩 {n}번 증가한 결과입니다\")\n",
        "\n",
        "result = []\n",
        "\n",
        "for i in range(1, n + 1):\n",
        "    result.append(x * i)\n",
        "\n",
        "print(f'\\n{result}')"
      ]
    },
    {
      "cell_type": "markdown",
      "metadata": {
        "id": "KgyLRKIhw7k3"
      },
      "source": [
        "---"
      ]
    },
    {
      "cell_type": "markdown",
      "metadata": {
        "id": "4BPXMLXUvBVL"
      },
      "source": [
        "__[문제2]__\n",
        "\n",
        "전화번호가 문자열 phone_number로 주어졌을 때, 전화번호의 뒷 4자리를 *으로 가린 문자열이 출력되도록 코드를 작성해주세요\n",
        "\n",
        "phone_number = \"01012347890\"  \n",
        "<br>\n",
        "\n",
        "출력 예) \"0101234****\""
      ]
    },
    {
      "cell_type": "code",
      "execution_count": 37,
      "metadata": {
        "id": "P0fY7CYUvC_j",
        "colab": {
          "base_uri": "https://localhost:8080/"
        },
        "outputId": "cdd0338e-58d9-4dfb-fdb8-f42528b19171"
      },
      "outputs": [
        {
          "output_type": "stream",
          "name": "stdout",
          "text": [
            "처음 전화번호: 01012347890\n",
            "\n",
            "10번째 글자 '0' --> '*' 로 변경: 0101234789*\n",
            "9번째 글자 '9' --> '*' 로 변경: 010123478**\n",
            "8번째 글자 '8' --> '*' 로 변경: 01012347***\n",
            "7번째 글자 '7' --> '*' 로 변경: 0101234****\n",
            "\n",
            "가린 전화번호: 0101234****\n"
          ]
        }
      ],
      "source": [
        "phone_number = list(\"01012347890\")\n",
        "count = 0\n",
        "\n",
        "print(f\"처음 전화번호: {''.join(phone_number)}\\n\")\n",
        "\n",
        "for i in range(len(phone_number)-1, -1, -1):\n",
        "    if count == 4:\n",
        "        break\n",
        "\n",
        "    before = phone_number[i]\n",
        "    phone_number[i] = \"*\"\n",
        "    after = phone_number[i]\n",
        "    count += 1\n",
        "\n",
        "    print(f\"{i}번째 글자 '{before}' --> '{after}' 로 변경: {''.join(phone_number)}\")\n",
        "\n",
        "print(f\"\\n가린 전화번호: {''.join(phone_number)}\")"
      ]
    },
    {
      "cell_type": "markdown",
      "metadata": {
        "id": "goULXwgBw7k4"
      },
      "source": [
        "---"
      ]
    },
    {
      "cell_type": "markdown",
      "metadata": {
        "id": "uUdOU9cFvDsq"
      },
      "source": [
        "__[문제3]__\n",
        "\n",
        "숫자를 건넬 때 일부 자릿수를 영단어로 바꾼 카드를 건네주면 프로도는 원래 숫자를 찾는 게임입니다.\n",
        "\n",
        "다음은 숫자의 일부 자릿수를 영단어로 바꾸는 예시입니다.\n",
        "\n",
        "1478 → \"one4seveneight\"  \n",
        "234567 → \"23four5six7\"  \n",
        "10203 → \"1zerotwozero3\"    \n",
        "\n",
        "이렇게 숫자의 일부 자릿수가 영단어로 바뀌어졌거나,   \n",
        "혹은 바뀌지 않고 그대로인 문자열 s가 주어졌을때\n",
        "s가 의미하는 원래 숫자를 출력하도록 코드를 작성해주세요\n",
        "\n",
        "s = \"77three4one\n",
        "\n",
        "---\n",
        "참고로 각 숫자에 대응되는 영단어는 다음 표와 같습니다.\n",
        "\n",
        "숫자\t영단어  \n",
        "0\tzero  \n",
        "1\tone  \n",
        "2\ttwo  \n",
        "3\tthree  \n",
        "4\tfour  \n",
        "5\tfive  \n",
        "6\tsix  \n",
        "7\tseven  \n",
        "8\teight  \n",
        "9\tnine  "
      ]
    },
    {
      "cell_type": "code",
      "execution_count": 38,
      "metadata": {
        "id": "2NmqRFgDvFtz",
        "colab": {
          "base_uri": "https://localhost:8080/"
        },
        "outputId": "f55a9169-6913-4104-aa2a-4d31930a7db5"
      },
      "outputs": [
        {
          "output_type": "stream",
          "name": "stdout",
          "text": [
            "입력값 s: 77three4one\n",
            "\n",
            "'7' 는 숫자라서 --> 'seven' 로 영단어 변환, 숫자는 그대로 '7'\n",
            "'7' 는 숫자라서 --> 'seven' 로 영단어 변환, 숫자는 그대로 '77'\n",
            "'three' 에서 'three' 발견 --> '3' 로 숫자 변환, 영단어는 그대로 'sevenseventhree'\n",
            "'4' 는 숫자라서 --> 'four' 로 영단어 변환, 숫자는 그대로 '7734'\n",
            "'one' 에서 'one' 발견 --> '1' 로 숫자 변환, 영단어는 그대로 'sevenseventhreefourone'\n",
            "\n",
            "==================================================\n",
            "영단어로 바꾼 결과: sevenseventhreefourone\n",
            "숫자로 바꾼 결과: 77341\n",
            "==================================================\n"
          ]
        }
      ],
      "source": [
        "s = \"77three4one\"\n",
        "\n",
        "num_to_word = {\"0\":\"zero\", \"1\":\"one\", \"2\":\"two\", \"3\":\"three\", \"4\":\"four\", \"5\":\"five\", \"6\":\"six\", \"7\":\"seven\", \"8\":\"eight\", \"9\":\"nine\"}\n",
        "word_to_num = {v: k for k, v in num_to_word.items()}\n",
        "\n",
        "temp = \"\"\n",
        "num_result = \"\"\n",
        "word_result = \"\"\n",
        "\n",
        "print(f\"입력값 s: {s}\\n\")\n",
        "\n",
        "for char in s:\n",
        "    temp += char\n",
        "    if temp.isdigit():\n",
        "        num_result += temp\n",
        "        word_result += num_to_word[temp]\n",
        "        print(f\"'{temp}' 는 숫자라서 --> '{num_to_word[temp]}' 로 영단어 변환, 숫자는 그대로 '{num_result}'\")\n",
        "        temp = \"\"\n",
        "    else:\n",
        "        for word in word_to_num:\n",
        "            if word in temp:\n",
        "                num_result += word_to_num[word]\n",
        "                word_result += word\n",
        "                print(f\"'{temp}' 에서 '{word}' 발견 --> '{word_to_num[word]}' 로 숫자 변환, 영단어는 그대로 '{word_result}'\")\n",
        "                temp = \"\"\n",
        "                break\n",
        "\n",
        "print(\"\\n\" + \"=\"*50)\n",
        "print(f\"영단어로 바꾼 결과: {word_result}\")\n",
        "print(f\"숫자로 바꾼 결과: {num_result}\")\n",
        "print(\"=\"*50)"
      ]
    },
    {
      "cell_type": "markdown",
      "metadata": {
        "id": "hUNYwmpww7k4"
      },
      "source": [
        "---"
      ]
    },
    {
      "cell_type": "markdown",
      "metadata": {
        "id": "J0Tha6AdvGL3"
      },
      "source": [
        "__[문제4]__\n",
        "\n",
        "행렬의 덧셈은 행과 열의 크기가 같은 두 행렬의 같은 행, 같은 열의 값을 서로 더한 결과가 됩니다.\n",
        "\n",
        " 행렬 arr1과 arr2가 주어졌을 때, 행렬 덧셈의 결과를 출력하는 코드를 작성해주세요(result와 같은 결과가 출력되도록 작성)\n",
        "\n",
        "arr1 = [[1,2],[2,3]]\n",
        "\n",
        "arr2 = [[3,4],[5,6]]\n",
        "\n",
        "result = [[4,6],[7,9]]"
      ]
    },
    {
      "cell_type": "code",
      "execution_count": 39,
      "metadata": {
        "id": "ujiXrEhJvIV0",
        "colab": {
          "base_uri": "https://localhost:8080/"
        },
        "outputId": "84d89e9a-7f69-483b-deb5-68ec6da4fb11"
      },
      "outputs": [
        {
          "output_type": "stream",
          "name": "stdout",
          "text": [
            "arr1 = [[1, 2], [2, 3]]\n",
            "arr2 = [[3, 4], [5, 6]]\n",
            "\n",
            "0행 0열: 1 + 3 = 4\n",
            "0행 1열: 2 + 4 = 6\n",
            "1행 0열: 2 + 5 = 7\n",
            "1행 1열: 3 + 6 = 9\n",
            "\n",
            "덧셈 결과: [[4, 6], [7, 9]]\n"
          ]
        }
      ],
      "source": [
        "arr1 = [[1, 2], [2, 3]]\n",
        "arr2 = [[3, 4], [5, 6]]\n",
        "result = []\n",
        "\n",
        "print(f\"arr1 = {arr1}\")\n",
        "print(f\"arr2 = {arr2}\\n\")\n",
        "\n",
        "for i in range(2):\n",
        "    row = []\n",
        "    for j in range(2):\n",
        "        value = arr1[i][j] + arr2[i][j]\n",
        "        print(f\"{i}행 {j}열: {arr1[i][j]} + {arr2[i][j]} = {value}\")\n",
        "        row.append(value)\n",
        "    result.append(row)\n",
        "\n",
        "print(f\"\\n덧셈 결과: {result}\")"
      ]
    },
    {
      "cell_type": "markdown",
      "metadata": {
        "id": "rLLz3zG4w7k4"
      },
      "source": [
        "---"
      ]
    },
    {
      "cell_type": "markdown",
      "metadata": {
        "id": "eLdrWVkavJEN"
      },
      "source": [
        "__[문제5]__\n",
        "\n",
        "양의 정수 x가 하샤드 수이려면 x의 자릿수의 합으로 x가 나누어져야 합니다.   \n",
        "예를 들어 18의 자릿수 합은 1+8=9이고, 18은 9로 나누어 떨어지므로 18은 하샤드 수입니다.   \n",
        "주어진 x를 이용해 x가 하샤드 수인지 아닌지 검사하는 코드를 작성해주세요\n",
        "\n",
        "x = 17\n",
        "\n",
        "----\n",
        "\n",
        "입출력 예시\n",
        "x\t결과값  \n",
        "10\ttrue  \n",
        "12\ttrue  \n",
        "11\tfalse  \n",
        "13\tfalse  "
      ]
    },
    {
      "cell_type": "code",
      "execution_count": 40,
      "metadata": {
        "id": "EULD-IOrvKmG",
        "colab": {
          "base_uri": "https://localhost:8080/"
        },
        "outputId": "a6f4e5fd-c929-47d4-aa96-ba37dbf27c25"
      },
      "outputs": [
        {
          "output_type": "stream",
          "name": "stdout",
          "text": [
            "현재 자릿수: 1, 누적 합: 1\n",
            "현재 자릿수: 7, 누적 합: 8\n",
            "\n",
            "17은(는) 자릿수 합 8으로 나누어떨어지지 않습니다\n",
            "결과: False\n"
          ]
        }
      ],
      "source": [
        "x = 17\n",
        "\n",
        "digit_sum = 0\n",
        "for digit in str(x):\n",
        "    digit_sum += int(digit)\n",
        "    print(f\"현재 자릿수: {digit}, 누적 합: {digit_sum}\")\n",
        "\n",
        "result = x % digit_sum == 0\n",
        "\n",
        "print(f\"\\n{x}은(는) 자릿수 합 {digit_sum}으로 나누어{'떨어집니다' if result else '떨어지지 않습니다'}\")\n",
        "print(f\"결과: {result}\")"
      ]
    },
    {
      "cell_type": "markdown",
      "metadata": {
        "id": "imjD7CKLw7k5"
      },
      "source": [
        "---"
      ]
    },
    {
      "cell_type": "markdown",
      "metadata": {
        "id": "GeS6hZhivLMZ"
      },
      "source": [
        "__[문제6]__\n",
        "\n",
        "String형 배열 seoul의 element중 \"Kim\"의 인덱스 x를 찾아, \"김서방은 x에 있다\"는 String을 출력하는 코드를 작성해주세요.   \n",
        "\n",
        "seoul에 \"Kim\"은 오직 한 번만 나타나며 잘못된 값이 입력되는 경우는 없습니다.\n",
        "\n",
        "seoul = [\"Jane\", \"Kim\"]\n",
        "\n",
        "<br>\n",
        "출력 예) \"김서방은 1에 있다\""
      ]
    },
    {
      "cell_type": "code",
      "execution_count": 41,
      "metadata": {
        "id": "e4LXat3BvRRg",
        "colab": {
          "base_uri": "https://localhost:8080/"
        },
        "outputId": "ea03712e-bdf8-4194-d2a6-09be8e42f91c"
      },
      "outputs": [
        {
          "output_type": "stream",
          "name": "stdout",
          "text": [
            "김서방은 1에 있다\n"
          ]
        }
      ],
      "source": [
        "seoul = [\"Jane\", \"Kim\"]\n",
        "\n",
        "for index in range(len(seoul)):\n",
        "    if seoul[index] == \"Kim\":\n",
        "        print(f\"김서방은 {index}에 있다\")\n",
        "        break"
      ]
    },
    {
      "cell_type": "markdown",
      "metadata": {
        "id": "F5Bx3jGlw7k5"
      },
      "source": [
        "---"
      ]
    },
    {
      "cell_type": "markdown",
      "metadata": {
        "id": "iZjKl-ZqvOkm"
      },
      "source": [
        "__[문제7]__\n",
        "\n",
        "0부터 9까지의 숫자 중 일부가 들어있는 정수 배열 numbers가 주어집니다.   \n",
        "numbers에서 찾을 수 없는 0부터 9까지의 숫자를 모두 찾아 더한 수를 출력해주세요\n",
        "\n",
        "numbers = [5,8,1,0,6,9]"
      ]
    },
    {
      "cell_type": "code",
      "execution_count": 42,
      "metadata": {
        "id": "598DAkIHvQav",
        "colab": {
          "base_uri": "https://localhost:8080/"
        },
        "outputId": "91711e25-104f-4bfc-9806-5a108bd99e8c"
      },
      "outputs": [
        {
          "output_type": "stream",
          "name": "stdout",
          "text": [
            "없는 숫자 2를 더합니다, 현재 합: 2\n",
            "없는 숫자 3를 더합니다, 현재 합: 5\n",
            "없는 숫자 4를 더합니다, 현재 합: 9\n",
            "없는 숫자 7를 더합니다, 현재 합: 16\n",
            "\n",
            "없는 숫자의 총합: 16\n"
          ]
        }
      ],
      "source": [
        "numbers = [5, 8, 1, 0, 6, 9]\n",
        "\n",
        "total = 0\n",
        "for num in range(10):  # 0부터 9까지\n",
        "    if num not in numbers:\n",
        "        total += num\n",
        "        print(f\"없는 숫자 {num}를 더합니다, 현재 합: {total}\")\n",
        "\n",
        "print(f\"\\n없는 숫자의 총합: {total}\")"
      ]
    }
  ],
  "metadata": {
    "colab": {
      "provenance": [],
      "include_colab_link": true
    },
    "kernelspec": {
      "display_name": "Python 3",
      "name": "python3"
    },
    "language_info": {
      "codemirror_mode": {
        "name": "ipython",
        "version": 3
      },
      "file_extension": ".py",
      "mimetype": "text/x-python",
      "name": "python",
      "nbconvert_exporter": "python",
      "pygments_lexer": "ipython3",
      "version": "3.13.3"
    }
  },
  "nbformat": 4,
  "nbformat_minor": 0
}